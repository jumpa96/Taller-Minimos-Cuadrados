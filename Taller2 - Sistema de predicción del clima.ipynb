{
 "cells": [
  {
   "cell_type": "markdown",
   "metadata": {},
   "source": [
    "# Sistema de predicción del clima"
   ]
  },
  {
   "cell_type": "markdown",
   "metadata": {},
   "source": [
    "# Nombres "
   ]
  },
  {
   "cell_type": "code",
   "execution_count": 3,
   "metadata": {},
   "outputs": [],
   "source": [
    "# dependecias para todo el taller. No se deben agregar más dependecias\n",
    "import numpy as np\n",
    "from matplotlib import pyplot as plt\n",
    "import pandas as pd"
   ]
  },
  {
   "cell_type": "markdown",
   "metadata": {},
   "source": [
    "Se cuenta con la información sobre el clima de los meses de enero a mayo del 2017. Se necesita generar la regresión que mejor se ajuste al comportamiento climático de dichos meses."
   ]
  },
  {
   "cell_type": "code",
   "execution_count": 4,
   "metadata": {},
   "outputs": [],
   "source": [
    "df = pd.read_csv('time_series.csv',  parse_dates=[0], header=None,index_col=0, squeeze=True,names=['fecha','unidades'])\n",
    "t = df['2017-01-01':'2017-05-30']"
   ]
  },
  {
   "cell_type": "markdown",
   "metadata": {},
   "source": [
    "1- Grafique el comportamiento climático almacenado en t (0.2)."
   ]
  },
  {
   "cell_type": "code",
   "execution_count": null,
   "metadata": {},
   "outputs": [],
   "source": []
  },
  {
   "cell_type": "markdown",
   "metadata": {},
   "source": [
    "2- Desarrolle una función con la cual se pueda generar phi con cualquiera de las tres funciones base (Polinomial, Exponencial y Sigmoildal). Para las funciones exponencial y sigmoidal genere los valores de la media con un $linspace$ entre 0 y 1 de tamaño $m$. Para la funcion exponencial use $s = 0.007$ y para la sigmoidal $s = 0.01$ (0.8)."
   ]
  },
  {
   "cell_type": "code",
   "execution_count": null,
   "metadata": {},
   "outputs": [],
   "source": []
  },
  {
   "cell_type": "markdown",
   "metadata": {},
   "source": [
    "3- Desarrolle dos funciones, una para generar W y otra para calcular el error medio cuadrático (0.5)."
   ]
  },
  {
   "cell_type": "code",
   "execution_count": null,
   "metadata": {},
   "outputs": [],
   "source": []
  },
  {
   "cell_type": "markdown",
   "metadata": {},
   "source": [
    "4- Usando la función polinomial proponga y grafique con tres M diferentes regresiones que se adaptes a los datos climáticos de enero a mayo del 2017. Las tres propuestas deben mostrar el comportamiento entre t y t prima con adaptaciones claramente diferentes. Para los gráficos use subplots. Calcule el error medio cuadrático y muestre los valores M, E, Titulo (0.7). "
   ]
  },
  {
   "cell_type": "code",
   "execution_count": null,
   "metadata": {},
   "outputs": [],
   "source": []
  },
  {
   "cell_type": "markdown",
   "metadata": {},
   "source": [
    "5- Usando la función exponencial proponga y grafique con tres M diferentes regresiones que se adaptes a los datos climáticos de enero a mayo del 2017. . Las tres propuestas deben mostrar el comportamiento entre t y t prima con adaptaciones claramente diferentes. Para los gráficos use subplots. Calcule el error medio cuadrático y muestre los valores de cada predicción en el titulo de la gráfica (0.7). "
   ]
  },
  {
   "cell_type": "code",
   "execution_count": null,
   "metadata": {},
   "outputs": [],
   "source": []
  },
  {
   "cell_type": "markdown",
   "metadata": {},
   "source": [
    "6- Usando la función sigmoidal proponga y grafique con tres M diferentes regresiones que se adaptes a los datos climáticos de enero a mayo del 2017. . Las tres propuestas deben mostrar el comportamiento entre t y t prima con adaptaciones claramente diferentes. Para los gráficos use subplots. Calcule el error medio cuadrático y muestre los valores de cada predicción en el titulo de la gráfica (0.7). "
   ]
  },
  {
   "cell_type": "code",
   "execution_count": null,
   "metadata": {},
   "outputs": [],
   "source": []
  },
  {
   "cell_type": "markdown",
   "metadata": {},
   "source": [
    "7- ¿Cual solución piensa que es la mejor que se ajusta al comportamiento climático? Justifique (0.6)."
   ]
  },
  {
   "cell_type": "code",
   "execution_count": null,
   "metadata": {},
   "outputs": [],
   "source": []
  },
  {
   "cell_type": "markdown",
   "metadata": {},
   "source": [
    "8- Realice la predicción del mes de junio del 2017 usando su mejor modelo encontrado en los puntos anteriores. Realice el grafico comparativo de su predicción con el valor real. Muestre en el gráfico solo la parte predecida (0.8)."
   ]
  },
  {
   "cell_type": "code",
   "execution_count": null,
   "metadata": {},
   "outputs": [],
   "source": []
  },
  {
   "cell_type": "code",
   "execution_count": null,
   "metadata": {},
   "outputs": [],
   "source": []
  }
 ],
 "metadata": {
  "kernelspec": {
   "display_name": "Python 3",
   "language": "python",
   "name": "python3"
  },
  "language_info": {
   "codemirror_mode": {
    "name": "ipython",
    "version": 3
   },
   "file_extension": ".py",
   "mimetype": "text/x-python",
   "name": "python",
   "nbconvert_exporter": "python",
   "pygments_lexer": "ipython3",
   "version": "3.7.3"
  }
 },
 "nbformat": 4,
 "nbformat_minor": 2
}
